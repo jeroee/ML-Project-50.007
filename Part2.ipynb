{
 "metadata": {
  "language_info": {
   "codemirror_mode": {
    "name": "ipython",
    "version": 3
   },
   "file_extension": ".py",
   "mimetype": "text/x-python",
   "name": "python",
   "nbconvert_exporter": "python",
   "pygments_lexer": "ipython3",
   "version": "3.6.6-final"
  },
  "orig_nbformat": 2,
  "kernelspec": {
   "name": "python3",
   "display_name": "Python 3"
  }
 },
 "nbformat": 4,
 "nbformat_minor": 2,
 "cells": [
  {
   "cell_type": "code",
   "execution_count": 8,
   "metadata": {},
   "outputs": [],
   "source": [
    "import numpy as np\n",
    "import pandas as pd\n",
    "from tqdm import tqdm\n",
    "import time\n",
    "\n",
    "pd.set_option('display.max_columns', None)\n",
    "EN_train = 'EN/train'\n",
    "SG_train = 'SG/train'\n",
    "CN_train = 'CN/train'\n",
    "EN_test = 'EN/dev.in'\n",
    "SG_test = 'SG/dev.in'\n",
    "CN_test = 'CN/dev.in'"
   ]
  },
  {
   "cell_type": "code",
   "execution_count": 12,
   "metadata": {},
   "outputs": [
    {
     "output_type": "stream",
     "name": "stdout",
     "text": [
      "119595\n36841\n"
     ]
    },
    {
     "output_type": "execute_result",
     "data": {
      "text/plain": [
       "         word\n",
       "0  Everything\n",
       "1      sounds\n",
       "2      better\n",
       "3        with\n",
       "4         the"
      ],
      "text/html": "<div>\n<style scoped>\n    .dataframe tbody tr th:only-of-type {\n        vertical-align: middle;\n    }\n\n    .dataframe tbody tr th {\n        vertical-align: top;\n    }\n\n    .dataframe thead th {\n        text-align: right;\n    }\n</style>\n<table border=\"1\" class=\"dataframe\">\n  <thead>\n    <tr style=\"text-align: right;\">\n      <th></th>\n      <th>word</th>\n    </tr>\n  </thead>\n  <tbody>\n    <tr>\n      <th>0</th>\n      <td>Everything</td>\n    </tr>\n    <tr>\n      <th>1</th>\n      <td>sounds</td>\n    </tr>\n    <tr>\n      <th>2</th>\n      <td>better</td>\n    </tr>\n    <tr>\n      <th>3</th>\n      <td>with</td>\n    </tr>\n    <tr>\n      <th>4</th>\n      <td>the</td>\n    </tr>\n  </tbody>\n</table>\n</div>"
     },
     "metadata": {},
     "execution_count": 12
    }
   ],
   "source": [
    "def load_train(training_file):\n",
    "    df = pd.read_csv(training_file, sep=' ', header = None, error_bad_lines=False)\n",
    "    df.columns=['word','state']\n",
    "    return df\n",
    "\n",
    "def load_test(test_file):\n",
    "    ls = []\n",
    "    f = open(test_file,encoding=\"utf8\")\n",
    "    for line in f:\n",
    "        ls.append(line.strip('\\n'))\n",
    "    df_test = pd.DataFrame(ls)\n",
    "    df_test.columns=['word']\n",
    "    return df_test\n",
    "        \n",
    "# df_test = load_test(EN_test)\n",
    "# print(len(df_test))\n",
    "df_train = load_train(SG_train)\n",
    "print(len(df_train))\n",
    "df_train.head(5)\n",
    "\n",
    "df_test = load_test(SG_test)\n",
    "print(len(df_test))\n",
    "df_test.head(5)"
   ]
  },
  {
   "cell_type": "code",
   "execution_count": 13,
   "metadata": {},
   "outputs": [
    {
     "output_type": "stream",
     "name": "stdout",
     "text": [
      "time elapsed 1.3129985332489014 seconds\n"
     ]
    }
   ],
   "source": [
    "def createMatrix(df):\n",
    "    start = time.time()\n",
    "    columns = df.word.unique().tolist()\n",
    "    index = df.state.unique().tolist()\n",
    "    new_df = pd.DataFrame(columns=columns, index=index)\n",
    "    print(f'time elapsed {time.time()-start} seconds')\n",
    "    return new_df\n",
    "emission_matrix = createMatrix(df_train)    \n",
    "# emission_matrix.head(1)"
   ]
  },
  {
   "cell_type": "code",
   "execution_count": 14,
   "metadata": {},
   "outputs": [
    {
     "output_type": "stream",
     "name": "stdout",
     "text": [
      "7\n26578\n"
     ]
    }
   ],
   "source": [
    "print(len(emission_matrix))\n",
    "print(len(emission_matrix.columns))"
   ]
  },
  {
   "cell_type": "code",
   "execution_count": 15,
   "metadata": {},
   "outputs": [
    {
     "output_type": "stream",
     "name": "stderr",
     "text": [
      "30508it [00:06, 4610.55it/s]\n",
      "time elapsed 8.913762092590332\n"
     ]
    }
   ],
   "source": [
    "def emissionMatrix_special(df, emission_matrix):\n",
    "    k=0.5\n",
    "    start = time.time()\n",
    "    df_denominator = df.groupby('state').count()   # getting counts of states\n",
    "    df_counts = df.groupby(['state','word']).size().reset_index()   # getting counts of every word in each state\n",
    "    df_merged = df_counts.merge(df_denominator, left_on=['state'], right_on='state')  # merge \n",
    "    df_merged = df_merged.rename(columns={\"word_x\": \"word\",0:\"word_count\", \"word_y\": \"state_count\"})\n",
    "    df_merged['Probability'] = df_merged.word_count/(df_merged.state_count+k)    # get emission probability (count of word in that state/ state count)\n",
    "    for index, row in tqdm(df_merged.iterrows()):  # for every known probabilty\n",
    "        emission_matrix.loc[row['state'],row['word']] = row['Probability']   # append into the emission matrix\n",
    "    for i in df_train.state.unique().tolist():\n",
    "        emission_matrix.loc[i,'#UNK#'] = float(k/df_denominator.loc[i]+k)\n",
    "    emission_matrix = emission_matrix.fillna(0)   # fill those null cells with zero\n",
    "    print(f'time elapsed {time.time()-start}')\n",
    "    return emission_matrix\n",
    "\n",
    "df_special = emissionMatrix_special(df_train, emission_matrix)\n",
    "# df_special.head(21)"
   ]
  },
  {
   "cell_type": "code",
   "execution_count": 16,
   "metadata": {},
   "outputs": [
    {
     "output_type": "stream",
     "name": "stdout",
     "text": [
      "time elapsed 0.012000560760498047\n"
     ]
    }
   ],
   "source": [
    "def argmax(df):\n",
    "    start = time.time()\n",
    "    tags={}\n",
    "    for col in df.columns:\n",
    "        tags[col]=df.index[df[col].argmax()]\n",
    "    return tags\n",
    "        \n",
    "tags = argmax(df_special)\n",
    "\n",
    "def tag_system(tag_dict, test_df):\n",
    "    start = time.time()\n",
    "    test_ls = test_df['word'].tolist()\n",
    "    tag_states=[]\n",
    "    for i in test_ls:\n",
    "        if i in tag_dict.keys():\n",
    "            tag_states.append(tag_dict[i])\n",
    "        elif i==\"\":   # for blank lines, set state to be blank\n",
    "            tag_states.append(\"\")\n",
    "        elif i not in tag_dict.keys():\n",
    "            tag_states.append(tag_dict['#UNK#'])\n",
    "\n",
    "    test_df['states']=tag_states\n",
    "    print(f'time elapsed {time.time()-start}')\n",
    "    return test_df\n",
    "output = tag_system(tags,df_test)"
   ]
  },
  {
   "cell_type": "code",
   "execution_count": 17,
   "metadata": {},
   "outputs": [
    {
     "output_type": "execute_result",
     "data": {
      "text/plain": [
       "                       word      states\n",
       "0                Everything           O\n",
       "1                    sounds           O\n",
       "2                    better           O\n",
       "3                      with           O\n",
       "4                       the           O\n",
       "5                   Titanic  I-negative\n",
       "6                      song  I-negative\n",
       "7                       laa           O\n",
       "8                         .           O\n",
       "9                    Hahaha           O\n",
       "10                        .           O\n",
       "11                                     \n",
       "12                      Eat           O\n",
       "13                     time           O\n",
       "14                        (   I-neutral\n",
       "15                        @           O\n",
       "16                  Geylang   B-neutral\n",
       "17                     East   I-neutral\n",
       "18                   Market  I-positive\n",
       "19                        &   I-neutral\n",
       "20                     Food  I-negative\n",
       "21                   Centre   I-neutral\n",
       "22                       in           O\n",
       "23                Singapore   B-neutral\n",
       "24                        )   I-neutral\n",
       "25  https://t.co/NfT0pki59H  I-negative\n",
       "26                                     \n",
       "27                    Kinda  I-negative\n",
       "28                  excited           O\n",
       "29                    about           O\n",
       "30                      the           O\n",
       "31            Godzilla-Kong  I-negative\n",
       "32                     film           O\n",
       "33                   series           O\n",
       "34                                     \n",
       "35                      I'm           O\n",
       "36                       at           O\n",
       "37                Chinatown   B-neutral\n",
       "38                   Street  I-negative\n",
       "39                   Market  I-positive\n",
       "40                       in           O\n",
       "41                Singapore   B-neutral\n",
       "42  https://t.co/ldW8BH3M8l  I-negative\n",
       "43                                     \n",
       "44                      I'm           O\n",
       "45                       at           O\n",
       "46                 Junction   I-neutral\n",
       "47                        8  I-positive\n",
       "48                 Shopping   I-neutral\n",
       "49                   Centre   I-neutral"
      ],
      "text/html": "<div>\n<style scoped>\n    .dataframe tbody tr th:only-of-type {\n        vertical-align: middle;\n    }\n\n    .dataframe tbody tr th {\n        vertical-align: top;\n    }\n\n    .dataframe thead th {\n        text-align: right;\n    }\n</style>\n<table border=\"1\" class=\"dataframe\">\n  <thead>\n    <tr style=\"text-align: right;\">\n      <th></th>\n      <th>word</th>\n      <th>states</th>\n    </tr>\n  </thead>\n  <tbody>\n    <tr>\n      <th>0</th>\n      <td>Everything</td>\n      <td>O</td>\n    </tr>\n    <tr>\n      <th>1</th>\n      <td>sounds</td>\n      <td>O</td>\n    </tr>\n    <tr>\n      <th>2</th>\n      <td>better</td>\n      <td>O</td>\n    </tr>\n    <tr>\n      <th>3</th>\n      <td>with</td>\n      <td>O</td>\n    </tr>\n    <tr>\n      <th>4</th>\n      <td>the</td>\n      <td>O</td>\n    </tr>\n    <tr>\n      <th>5</th>\n      <td>Titanic</td>\n      <td>I-negative</td>\n    </tr>\n    <tr>\n      <th>6</th>\n      <td>song</td>\n      <td>I-negative</td>\n    </tr>\n    <tr>\n      <th>7</th>\n      <td>laa</td>\n      <td>O</td>\n    </tr>\n    <tr>\n      <th>8</th>\n      <td>.</td>\n      <td>O</td>\n    </tr>\n    <tr>\n      <th>9</th>\n      <td>Hahaha</td>\n      <td>O</td>\n    </tr>\n    <tr>\n      <th>10</th>\n      <td>.</td>\n      <td>O</td>\n    </tr>\n    <tr>\n      <th>11</th>\n      <td></td>\n      <td></td>\n    </tr>\n    <tr>\n      <th>12</th>\n      <td>Eat</td>\n      <td>O</td>\n    </tr>\n    <tr>\n      <th>13</th>\n      <td>time</td>\n      <td>O</td>\n    </tr>\n    <tr>\n      <th>14</th>\n      <td>(</td>\n      <td>I-neutral</td>\n    </tr>\n    <tr>\n      <th>15</th>\n      <td>@</td>\n      <td>O</td>\n    </tr>\n    <tr>\n      <th>16</th>\n      <td>Geylang</td>\n      <td>B-neutral</td>\n    </tr>\n    <tr>\n      <th>17</th>\n      <td>East</td>\n      <td>I-neutral</td>\n    </tr>\n    <tr>\n      <th>18</th>\n      <td>Market</td>\n      <td>I-positive</td>\n    </tr>\n    <tr>\n      <th>19</th>\n      <td>&amp;</td>\n      <td>I-neutral</td>\n    </tr>\n    <tr>\n      <th>20</th>\n      <td>Food</td>\n      <td>I-negative</td>\n    </tr>\n    <tr>\n      <th>21</th>\n      <td>Centre</td>\n      <td>I-neutral</td>\n    </tr>\n    <tr>\n      <th>22</th>\n      <td>in</td>\n      <td>O</td>\n    </tr>\n    <tr>\n      <th>23</th>\n      <td>Singapore</td>\n      <td>B-neutral</td>\n    </tr>\n    <tr>\n      <th>24</th>\n      <td>)</td>\n      <td>I-neutral</td>\n    </tr>\n    <tr>\n      <th>25</th>\n      <td>https://t.co/NfT0pki59H</td>\n      <td>I-negative</td>\n    </tr>\n    <tr>\n      <th>26</th>\n      <td></td>\n      <td></td>\n    </tr>\n    <tr>\n      <th>27</th>\n      <td>Kinda</td>\n      <td>I-negative</td>\n    </tr>\n    <tr>\n      <th>28</th>\n      <td>excited</td>\n      <td>O</td>\n    </tr>\n    <tr>\n      <th>29</th>\n      <td>about</td>\n      <td>O</td>\n    </tr>\n    <tr>\n      <th>30</th>\n      <td>the</td>\n      <td>O</td>\n    </tr>\n    <tr>\n      <th>31</th>\n      <td>Godzilla-Kong</td>\n      <td>I-negative</td>\n    </tr>\n    <tr>\n      <th>32</th>\n      <td>film</td>\n      <td>O</td>\n    </tr>\n    <tr>\n      <th>33</th>\n      <td>series</td>\n      <td>O</td>\n    </tr>\n    <tr>\n      <th>34</th>\n      <td></td>\n      <td></td>\n    </tr>\n    <tr>\n      <th>35</th>\n      <td>I'm</td>\n      <td>O</td>\n    </tr>\n    <tr>\n      <th>36</th>\n      <td>at</td>\n      <td>O</td>\n    </tr>\n    <tr>\n      <th>37</th>\n      <td>Chinatown</td>\n      <td>B-neutral</td>\n    </tr>\n    <tr>\n      <th>38</th>\n      <td>Street</td>\n      <td>I-negative</td>\n    </tr>\n    <tr>\n      <th>39</th>\n      <td>Market</td>\n      <td>I-positive</td>\n    </tr>\n    <tr>\n      <th>40</th>\n      <td>in</td>\n      <td>O</td>\n    </tr>\n    <tr>\n      <th>41</th>\n      <td>Singapore</td>\n      <td>B-neutral</td>\n    </tr>\n    <tr>\n      <th>42</th>\n      <td>https://t.co/ldW8BH3M8l</td>\n      <td>I-negative</td>\n    </tr>\n    <tr>\n      <th>43</th>\n      <td></td>\n      <td></td>\n    </tr>\n    <tr>\n      <th>44</th>\n      <td>I'm</td>\n      <td>O</td>\n    </tr>\n    <tr>\n      <th>45</th>\n      <td>at</td>\n      <td>O</td>\n    </tr>\n    <tr>\n      <th>46</th>\n      <td>Junction</td>\n      <td>I-neutral</td>\n    </tr>\n    <tr>\n      <th>47</th>\n      <td>8</td>\n      <td>I-positive</td>\n    </tr>\n    <tr>\n      <th>48</th>\n      <td>Shopping</td>\n      <td>I-neutral</td>\n    </tr>\n    <tr>\n      <th>49</th>\n      <td>Centre</td>\n      <td>I-neutral</td>\n    </tr>\n  </tbody>\n</table>\n</div>"
     },
     "metadata": {},
     "execution_count": 17
    }
   ],
   "source": [
    "output.head(50)"
   ]
  },
  {
   "cell_type": "code",
   "execution_count": null,
   "metadata": {},
   "outputs": [],
   "source": []
  }
 ]
}