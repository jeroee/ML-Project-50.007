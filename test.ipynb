{
 "metadata": {
  "language_info": {
   "codemirror_mode": {
    "name": "ipython",
    "version": 3
   },
   "file_extension": ".py",
   "mimetype": "text/x-python",
   "name": "python",
   "nbconvert_exporter": "python",
   "pygments_lexer": "ipython3",
   "version": "3.7.5-final"
  },
  "orig_nbformat": 2,
  "kernelspec": {
   "name": "python3",
   "display_name": "Python 3"
  }
 },
 "nbformat": 4,
 "nbformat_minor": 2,
 "cells": [
  {
   "cell_type": "code",
   "execution_count": 28,
   "metadata": {},
   "outputs": [],
   "source": [
    "import numpy as np\n",
    "import pandas as pd\n",
    "from tqdm import tqdm\n",
    "import time\n",
    "from collections import Counter\n",
    "\n",
    "pd.set_option('display.max_columns', None)\n",
    "EN_train = 'EN/train'\n",
    "SG_train = 'SG/train'\n",
    "CN_train = 'CN/train'\n",
    "EN_test = 'EN/dev.in'\n",
    "SG_test = 'SG/dev.in'\n",
    "CN_test = 'CN/dev.in'"
   ]
  },
  {
   "cell_type": "code",
   "execution_count": 29,
   "metadata": {},
   "outputs": [
    {
     "output_type": "stream",
     "name": "stdout",
     "text": [
      "181628\n27225\n"
     ]
    },
    {
     "output_type": "execute_result",
     "data": {
      "text/plain": [
       "    word\n",
       "0    HBO\n",
       "1    has\n",
       "2  close\n",
       "3     to\n",
       "4     24"
      ],
      "text/html": "<div>\n<style scoped>\n    .dataframe tbody tr th:only-of-type {\n        vertical-align: middle;\n    }\n\n    .dataframe tbody tr th {\n        vertical-align: top;\n    }\n\n    .dataframe thead th {\n        text-align: right;\n    }\n</style>\n<table border=\"1\" class=\"dataframe\">\n  <thead>\n    <tr style=\"text-align: right;\">\n      <th></th>\n      <th>word</th>\n    </tr>\n  </thead>\n  <tbody>\n    <tr>\n      <th>0</th>\n      <td>HBO</td>\n    </tr>\n    <tr>\n      <th>1</th>\n      <td>has</td>\n    </tr>\n    <tr>\n      <th>2</th>\n      <td>close</td>\n    </tr>\n    <tr>\n      <th>3</th>\n      <td>to</td>\n    </tr>\n    <tr>\n      <th>4</th>\n      <td>24</td>\n    </tr>\n  </tbody>\n</table>\n</div>"
     },
     "metadata": {},
     "execution_count": 29
    }
   ],
   "source": [
    "def load_train(training_file):\n",
    "    df = pd.read_csv(training_file, sep=' ', header = None, error_bad_lines=False)\n",
    "    df.columns=['word','state']\n",
    "    return df\n",
    "\n",
    "def load_test(test_file):\n",
    "    ls = []\n",
    "    f = open(test_file,encoding=\"utf8\")\n",
    "    for line in f:\n",
    "        ls.append(line.strip('\\n'))\n",
    "    df_test = pd.DataFrame(ls)\n",
    "    df_test.columns=['word']\n",
    "    return df_test\n",
    "        \n",
    "# df_test = load_test(EN_test)\n",
    "# print(len(df_test))\n",
    "df_train = load_train(EN_train)\n",
    "print(len(df_train))\n",
    "df_train.head(5)\n",
    "\n",
    "df_test = load_test(EN_test)\n",
    "print(len(df_test))\n",
    "df_test.head(5)"
   ]
  },
  {
   "cell_type": "code",
   "execution_count": 30,
   "metadata": {},
   "outputs": [
    {
     "output_type": "stream",
     "name": "stdout",
     "text": [
      "time elapsed 0.926966667175293 seconds\n"
     ]
    }
   ],
   "source": [
    "def createMatrix(df):\n",
    "    start = time.time()\n",
    "    columns = df.word.unique().tolist()\n",
    "    index = df.state.unique().tolist()\n",
    "    new_df = pd.DataFrame(columns=columns, index=index)\n",
    "    print(f'time elapsed {time.time()-start} seconds')\n",
    "    return new_df\n",
    "empty_matrix = createMatrix(df_train)    \n",
    "# emission_matrix.head(1)"
   ]
  },
  {
   "cell_type": "code",
   "execution_count": 33,
   "metadata": {},
   "outputs": [
    {
     "output_type": "stream",
     "name": "stdout",
     "text": [
      "21\n18212\n"
     ]
    }
   ],
   "source": [
    "print(len(empty_matrix))\n",
    "print(len(empty_matrix.columns))"
   ]
  },
  {
   "cell_type": "code",
   "execution_count": 35,
   "metadata": {},
   "outputs": [
    {
     "output_type": "stream",
     "name": "stderr",
     "text": [
      "25051it [00:10, 2489.42it/s]\n",
      "time elapsed 11.810049057006836\n"
     ]
    }
   ],
   "source": [
    "def emissionMatrix_special(df, emission_matrix):\n",
    "    k=0.5\n",
    "    start = time.time()\n",
    "    df_denominator = df.groupby('state').count()   # getting counts of states\n",
    "    df_counts = df.groupby(['state','word']).size().reset_index()   # getting counts of every word in each state\n",
    "    df_merged = df_counts.merge(df_denominator, left_on=['state'], right_on='state')  # merge \n",
    "    df_merged = df_merged.rename(columns={\"word_x\": \"word\",0:\"word_count\", \"word_y\": \"state_count\"})\n",
    "    df_merged['Probability'] = df_merged.word_count/(df_merged.state_count+k)    # get emission probability (count of word in that state/ state count)\n",
    "    for index, row in tqdm(df_merged.iterrows()):  # for every known probabilty\n",
    "        emission_matrix.loc[row['state'],row['word']] = row['Probability']   # append into the emission matrix\n",
    "    for i in df_train.state.unique().tolist():\n",
    "        emission_matrix.loc[i,'#UNK#'] = float(k/df_denominator.loc[i]+k)\n",
    "    emission_matrix = emission_matrix.fillna(0)   # fill those null cells with zero\n",
    "    print(f'time elapsed {time.time()-start}')\n",
    "    return emission_matrix\n",
    "\n",
    "emission_matrix = emissionMatrix_special(df_train, empty_matrix)\n",
    "# df_special.head(21)"
   ]
  },
  {
   "cell_type": "code",
   "execution_count": 16,
   "metadata": {},
   "outputs": [
    {
     "output_type": "stream",
     "name": "stdout",
     "text": [
      "time elapsed 0.012000560760498047\n"
     ]
    }
   ],
   "source": [
    "def argmax(df):\n",
    "    start = time.time()\n",
    "    tags={}\n",
    "    for col in df.columns:\n",
    "        tags[col]=df.index[df[col].argmax()]\n",
    "    return tags\n",
    "        \n",
    "tags = argmax(df_special)\n",
    "\n",
    "def tag_system(tag_dict, test_df):\n",
    "    start = time.time()\n",
    "    test_ls = test_df['word'].tolist()\n",
    "    tag_states=[]\n",
    "    for i in test_ls:\n",
    "        if i in tag_dict.keys():\n",
    "            tag_states.append(tag_dict[i])\n",
    "        elif i==\"\":   # for blank lines, set state to be blank\n",
    "            tag_states.append(\"\")\n",
    "        elif i not in tag_dict.keys():\n",
    "            tag_states.append(tag_dict['#UNK#'])\n",
    "\n",
    "    test_df['states']=tag_states\n",
    "    print(f'time elapsed {time.time()-start}')\n",
    "    return test_df\n",
    "output = tag_system(tags,df_test)"
   ]
  },
  {
   "cell_type": "code",
   "execution_count": 17,
   "metadata": {},
   "outputs": [
    {
     "output_type": "execute_result",
     "data": {
      "text/plain": [
       "                       word      states\n",
       "0                Everything           O\n",
       "1                    sounds           O\n",
       "2                    better           O\n",
       "3                      with           O\n",
       "4                       the           O\n",
       "5                   Titanic  I-negative\n",
       "6                      song  I-negative\n",
       "7                       laa           O\n",
       "8                         .           O\n",
       "9                    Hahaha           O\n",
       "10                        .           O\n",
       "11                                     \n",
       "12                      Eat           O\n",
       "13                     time           O\n",
       "14                        (   I-neutral\n",
       "15                        @           O\n",
       "16                  Geylang   B-neutral\n",
       "17                     East   I-neutral\n",
       "18                   Market  I-positive\n",
       "19                        &   I-neutral\n",
       "20                     Food  I-negative\n",
       "21                   Centre   I-neutral\n",
       "22                       in           O\n",
       "23                Singapore   B-neutral\n",
       "24                        )   I-neutral\n",
       "25  https://t.co/NfT0pki59H  I-negative\n",
       "26                                     \n",
       "27                    Kinda  I-negative\n",
       "28                  excited           O\n",
       "29                    about           O\n",
       "30                      the           O\n",
       "31            Godzilla-Kong  I-negative\n",
       "32                     film           O\n",
       "33                   series           O\n",
       "34                                     \n",
       "35                      I'm           O\n",
       "36                       at           O\n",
       "37                Chinatown   B-neutral\n",
       "38                   Street  I-negative\n",
       "39                   Market  I-positive\n",
       "40                       in           O\n",
       "41                Singapore   B-neutral\n",
       "42  https://t.co/ldW8BH3M8l  I-negative\n",
       "43                                     \n",
       "44                      I'm           O\n",
       "45                       at           O\n",
       "46                 Junction   I-neutral\n",
       "47                        8  I-positive\n",
       "48                 Shopping   I-neutral\n",
       "49                   Centre   I-neutral"
      ],
      "text/html": "<div>\n<style scoped>\n    .dataframe tbody tr th:only-of-type {\n        vertical-align: middle;\n    }\n\n    .dataframe tbody tr th {\n        vertical-align: top;\n    }\n\n    .dataframe thead th {\n        text-align: right;\n    }\n</style>\n<table border=\"1\" class=\"dataframe\">\n  <thead>\n    <tr style=\"text-align: right;\">\n      <th></th>\n      <th>word</th>\n      <th>states</th>\n    </tr>\n  </thead>\n  <tbody>\n    <tr>\n      <th>0</th>\n      <td>Everything</td>\n      <td>O</td>\n    </tr>\n    <tr>\n      <th>1</th>\n      <td>sounds</td>\n      <td>O</td>\n    </tr>\n    <tr>\n      <th>2</th>\n      <td>better</td>\n      <td>O</td>\n    </tr>\n    <tr>\n      <th>3</th>\n      <td>with</td>\n      <td>O</td>\n    </tr>\n    <tr>\n      <th>4</th>\n      <td>the</td>\n      <td>O</td>\n    </tr>\n    <tr>\n      <th>5</th>\n      <td>Titanic</td>\n      <td>I-negative</td>\n    </tr>\n    <tr>\n      <th>6</th>\n      <td>song</td>\n      <td>I-negative</td>\n    </tr>\n    <tr>\n      <th>7</th>\n      <td>laa</td>\n      <td>O</td>\n    </tr>\n    <tr>\n      <th>8</th>\n      <td>.</td>\n      <td>O</td>\n    </tr>\n    <tr>\n      <th>9</th>\n      <td>Hahaha</td>\n      <td>O</td>\n    </tr>\n    <tr>\n      <th>10</th>\n      <td>.</td>\n      <td>O</td>\n    </tr>\n    <tr>\n      <th>11</th>\n      <td></td>\n      <td></td>\n    </tr>\n    <tr>\n      <th>12</th>\n      <td>Eat</td>\n      <td>O</td>\n    </tr>\n    <tr>\n      <th>13</th>\n      <td>time</td>\n      <td>O</td>\n    </tr>\n    <tr>\n      <th>14</th>\n      <td>(</td>\n      <td>I-neutral</td>\n    </tr>\n    <tr>\n      <th>15</th>\n      <td>@</td>\n      <td>O</td>\n    </tr>\n    <tr>\n      <th>16</th>\n      <td>Geylang</td>\n      <td>B-neutral</td>\n    </tr>\n    <tr>\n      <th>17</th>\n      <td>East</td>\n      <td>I-neutral</td>\n    </tr>\n    <tr>\n      <th>18</th>\n      <td>Market</td>\n      <td>I-positive</td>\n    </tr>\n    <tr>\n      <th>19</th>\n      <td>&amp;</td>\n      <td>I-neutral</td>\n    </tr>\n    <tr>\n      <th>20</th>\n      <td>Food</td>\n      <td>I-negative</td>\n    </tr>\n    <tr>\n      <th>21</th>\n      <td>Centre</td>\n      <td>I-neutral</td>\n    </tr>\n    <tr>\n      <th>22</th>\n      <td>in</td>\n      <td>O</td>\n    </tr>\n    <tr>\n      <th>23</th>\n      <td>Singapore</td>\n      <td>B-neutral</td>\n    </tr>\n    <tr>\n      <th>24</th>\n      <td>)</td>\n      <td>I-neutral</td>\n    </tr>\n    <tr>\n      <th>25</th>\n      <td>https://t.co/NfT0pki59H</td>\n      <td>I-negative</td>\n    </tr>\n    <tr>\n      <th>26</th>\n      <td></td>\n      <td></td>\n    </tr>\n    <tr>\n      <th>27</th>\n      <td>Kinda</td>\n      <td>I-negative</td>\n    </tr>\n    <tr>\n      <th>28</th>\n      <td>excited</td>\n      <td>O</td>\n    </tr>\n    <tr>\n      <th>29</th>\n      <td>about</td>\n      <td>O</td>\n    </tr>\n    <tr>\n      <th>30</th>\n      <td>the</td>\n      <td>O</td>\n    </tr>\n    <tr>\n      <th>31</th>\n      <td>Godzilla-Kong</td>\n      <td>I-negative</td>\n    </tr>\n    <tr>\n      <th>32</th>\n      <td>film</td>\n      <td>O</td>\n    </tr>\n    <tr>\n      <th>33</th>\n      <td>series</td>\n      <td>O</td>\n    </tr>\n    <tr>\n      <th>34</th>\n      <td></td>\n      <td></td>\n    </tr>\n    <tr>\n      <th>35</th>\n      <td>I'm</td>\n      <td>O</td>\n    </tr>\n    <tr>\n      <th>36</th>\n      <td>at</td>\n      <td>O</td>\n    </tr>\n    <tr>\n      <th>37</th>\n      <td>Chinatown</td>\n      <td>B-neutral</td>\n    </tr>\n    <tr>\n      <th>38</th>\n      <td>Street</td>\n      <td>I-negative</td>\n    </tr>\n    <tr>\n      <th>39</th>\n      <td>Market</td>\n      <td>I-positive</td>\n    </tr>\n    <tr>\n      <th>40</th>\n      <td>in</td>\n      <td>O</td>\n    </tr>\n    <tr>\n      <th>41</th>\n      <td>Singapore</td>\n      <td>B-neutral</td>\n    </tr>\n    <tr>\n      <th>42</th>\n      <td>https://t.co/ldW8BH3M8l</td>\n      <td>I-negative</td>\n    </tr>\n    <tr>\n      <th>43</th>\n      <td></td>\n      <td></td>\n    </tr>\n    <tr>\n      <th>44</th>\n      <td>I'm</td>\n      <td>O</td>\n    </tr>\n    <tr>\n      <th>45</th>\n      <td>at</td>\n      <td>O</td>\n    </tr>\n    <tr>\n      <th>46</th>\n      <td>Junction</td>\n      <td>I-neutral</td>\n    </tr>\n    <tr>\n      <th>47</th>\n      <td>8</td>\n      <td>I-positive</td>\n    </tr>\n    <tr>\n      <th>48</th>\n      <td>Shopping</td>\n      <td>I-neutral</td>\n    </tr>\n    <tr>\n      <th>49</th>\n      <td>Centre</td>\n      <td>I-neutral</td>\n    </tr>\n  </tbody>\n</table>\n</div>"
     },
     "metadata": {},
     "execution_count": 17
    }
   ],
   "source": [
    "output.head(50)"
   ]
  },
  {
   "cell_type": "code",
   "execution_count": 20,
   "metadata": {},
   "outputs": [],
   "source": [
    "def load_train_trans(training_file):\n",
    "    f = open(training_file)\n",
    "    ls_state = ['START']\n",
    "    for line in f:\n",
    "        item = line.strip('\\n').split(' ')\n",
    "        if len(item) == 2:\n",
    "            ls_state.append(item[1])\n",
    "        elif len(item) < 2:\n",
    "            ls_state.append('STOP')\n",
    "            ls_state.append('START')\n",
    "    ls_state.pop(-1)\n",
    "    return ls_state\n",
    "\n",
    "def relation_matrix(temp):\n",
    "    count = Counter(temp)\n",
    "    list_key = list(count.keys())\n",
    "    rls_matrix = pd.DataFrame(columns=list_key, index=list_key)\n",
    "    for (x, y), c in Counter(zip(temp, temp[1:])).items():\n",
    "        rls_matrix.loc[[x], [y]] = c/count[x]\n",
    "    rls_matrix = rls_matrix.fillna(value=0)\n",
    "    rls_matrix = rls_matrix.drop(columns='START')\n",
    "    rls_matrix = rls_matrix.drop(index='STOP')\n",
    "    return rls_matrix"
   ]
  },
  {
   "cell_type": "code",
   "execution_count": 21,
   "metadata": {},
   "outputs": [],
   "source": [
    "sequence_ls = load_train_trans(EN_train)\n",
    "transition_matrix = relation_matrix(sequence_ls)"
   ]
  },
  {
   "cell_type": "code",
   "execution_count": 26,
   "metadata": {},
   "outputs": [
    {
     "output_type": "stream",
     "name": "stdout",
     "text": [
      "            B-NP      I-NP      B-VP    B-ADVP    B-ADJP  I-ADJP      B-PP  \\\nSTART   0.648049  0.000000  0.018661  0.054287  0.003262     0.0  0.108704   \nB-NP    0.028898  0.684706  0.130303  0.009809  0.003213     0.0  0.058007   \nI-NP    0.047645  0.406679  0.134912  0.015332  0.004103     0.0  0.156509   \nB-VP    0.345217  0.000000  0.007229  0.031214  0.039209     0.0  0.098735   \nB-ADVP  0.210379  0.000000  0.215989  0.016269  0.016550     0.0  0.170547   \n\n               O      STOP    B-SBAR      I-VP    I-ADVP     B-PRT  I-PP  \\\nSTART   0.141850  0.000000  0.022576  0.000000  0.000000  0.000000   0.0   \nB-NP    0.080964  0.000233  0.003403  0.000000  0.000000  0.000359   0.0   \nI-NP    0.227327  0.000788  0.006375  0.000000  0.000000  0.000128   0.0   \nB-VP    0.067411  0.000055  0.025574  0.373912  0.000000  0.011171   0.0   \nB-ADVP  0.265358  0.000842  0.016269  0.000000  0.086957  0.000281   0.0   \n\n         B-CONJP  I-CONJP    B-INTJ  I-INTJ  I-SBAR     B-UCP  I-UCP     B-LST  \nSTART   0.000261      0.0  0.001305     0.0     0.0  0.000000    0.0  0.001044  \nB-NP    0.000085      0.0  0.000000     0.0     0.0  0.000021    0.0  0.000000  \nI-NP    0.000201      0.0  0.000000     0.0     0.0  0.000000    0.0  0.000000  \nB-VP    0.000164      0.0  0.000110     0.0     0.0  0.000000    0.0  0.000000  \nB-ADVP  0.000561      0.0  0.000000     0.0     0.0  0.000000    0.0  0.000000  \n"
     ]
    }
   ],
   "source": [
    "print(transition_matrix.head())"
   ]
  },
  {
   "cell_type": "code",
   "execution_count": null,
   "metadata": {},
   "outputs": [],
   "source": [
    "# emission_matrix; transition_matrix"
   ]
  },
  {
   "cell_type": "code",
   "execution_count": 36,
   "metadata": {},
   "outputs": [],
   "source": [
    "m = open('EN/dev.in', encoding=\"utf8\")\n",
    "ls=[]\n",
    "big_ls=[]\n",
    "for line in m:\n",
    "    item=line.strip('\\n')\n",
    "    if item=='':\n",
    "        big_ls.append(ls)\n",
    "        ls=[]\n",
    "    elif item!='':\n",
    "        ls.append(item)"
   ]
  },
  {
   "cell_type": "code",
   "execution_count": 41,
   "metadata": {},
   "outputs": [
    {
     "output_type": "execute_result",
     "data": {
      "text/plain": [
       "['The',\n",
       " 'percentage',\n",
       " 'rates',\n",
       " 'are',\n",
       " 'calculated',\n",
       " 'on',\n",
       " 'a',\n",
       " '360-day',\n",
       " 'year',\n",
       " ',',\n",
       " 'while',\n",
       " 'the',\n",
       " 'coupon-equivalent',\n",
       " 'yield',\n",
       " 'is',\n",
       " 'based',\n",
       " 'on',\n",
       " 'a',\n",
       " '365-day',\n",
       " 'year',\n",
       " '.']"
      ]
     },
     "metadata": {},
     "execution_count": 41
    }
   ],
   "source": []
  }
 ]
}